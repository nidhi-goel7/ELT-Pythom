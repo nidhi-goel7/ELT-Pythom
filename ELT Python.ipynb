{
 "cells": [
  {
   "cell_type": "code",
   "execution_count": 27,
   "metadata": {},
   "outputs": [],
   "source": [
    "import numpy as np\n",
    "import pandas as pd\n",
    "import matplotlib.pyplot as plt\n",
    "import seaborn as sns"
   ]
  },
  {
   "cell_type": "code",
   "execution_count": 28,
   "metadata": {
    "scrolled": true
   },
   "outputs": [
    {
     "data": {
      "text/html": [
       "<div>\n",
       "<style scoped>\n",
       "    .dataframe tbody tr th:only-of-type {\n",
       "        vertical-align: middle;\n",
       "    }\n",
       "\n",
       "    .dataframe tbody tr th {\n",
       "        vertical-align: top;\n",
       "    }\n",
       "\n",
       "    .dataframe thead th {\n",
       "        text-align: right;\n",
       "    }\n",
       "</style>\n",
       "<table border=\"1\" class=\"dataframe\">\n",
       "  <thead>\n",
       "    <tr style=\"text-align: right;\">\n",
       "      <th></th>\n",
       "      <th>City_Code</th>\n",
       "      <th>Region_Code</th>\n",
       "      <th>Accomodation_Type</th>\n",
       "      <th>Reco_Insurance_Type</th>\n",
       "      <th>Upper_Age</th>\n",
       "      <th>Lower_Age</th>\n",
       "      <th>Is_Spouse</th>\n",
       "      <th>Health Indicator</th>\n",
       "      <th>Holding_Policy_Duration</th>\n",
       "      <th>Holding_Policy_Type</th>\n",
       "      <th>Reco_Policy_Cat</th>\n",
       "      <th>Reco_Policy_Premium</th>\n",
       "      <th>Response</th>\n",
       "    </tr>\n",
       "  </thead>\n",
       "  <tbody>\n",
       "    <tr>\n",
       "      <th>0</th>\n",
       "      <td>C4</td>\n",
       "      <td>4436.213489</td>\n",
       "      <td>Owned</td>\n",
       "      <td>Individual</td>\n",
       "      <td>76.469126</td>\n",
       "      <td>86.353313</td>\n",
       "      <td>Yes</td>\n",
       "      <td>X4</td>\n",
       "      <td>2</td>\n",
       "      <td>NaN</td>\n",
       "      <td>24.204855</td>\n",
       "      <td>40114.06942</td>\n",
       "      <td>0</td>\n",
       "    </tr>\n",
       "    <tr>\n",
       "      <th>1</th>\n",
       "      <td>C4</td>\n",
       "      <td>5628.674628</td>\n",
       "      <td>Rented</td>\n",
       "      <td>Individual</td>\n",
       "      <td>41.428607</td>\n",
       "      <td>90.708114</td>\n",
       "      <td>Yes</td>\n",
       "      <td>X1</td>\n",
       "      <td>NaN</td>\n",
       "      <td>NaN</td>\n",
       "      <td>32.009301</td>\n",
       "      <td>46474.10308</td>\n",
       "      <td>1</td>\n",
       "    </tr>\n",
       "    <tr>\n",
       "      <th>2</th>\n",
       "      <td>C2</td>\n",
       "      <td>3050.625497</td>\n",
       "      <td>Rented</td>\n",
       "      <td>Individual</td>\n",
       "      <td>77.521854</td>\n",
       "      <td>41.575179</td>\n",
       "      <td>Yes</td>\n",
       "      <td>X1</td>\n",
       "      <td>NaN</td>\n",
       "      <td>NaN</td>\n",
       "      <td>46.674483</td>\n",
       "      <td>27830.91139</td>\n",
       "      <td>0</td>\n",
       "    </tr>\n",
       "    <tr>\n",
       "      <th>3</th>\n",
       "      <td>C8</td>\n",
       "      <td>3282.979352</td>\n",
       "      <td>Rented</td>\n",
       "      <td>Joint</td>\n",
       "      <td>102.369049</td>\n",
       "      <td>67.044419</td>\n",
       "      <td>Yes</td>\n",
       "      <td>NaN</td>\n",
       "      <td>NaN</td>\n",
       "      <td>5.905065</td>\n",
       "      <td>46.375886</td>\n",
       "      <td>16514.71879</td>\n",
       "      <td>0</td>\n",
       "    </tr>\n",
       "    <tr>\n",
       "      <th>4</th>\n",
       "      <td>C10</td>\n",
       "      <td>7391.098076</td>\n",
       "      <td>Rented</td>\n",
       "      <td>Joint</td>\n",
       "      <td>65.399605</td>\n",
       "      <td>61.384969</td>\n",
       "      <td>No</td>\n",
       "      <td>NaN</td>\n",
       "      <td>4</td>\n",
       "      <td>5.869999</td>\n",
       "      <td>23.841896</td>\n",
       "      <td>38570.32725</td>\n",
       "      <td>0</td>\n",
       "    </tr>\n",
       "  </tbody>\n",
       "</table>\n",
       "</div>"
      ],
      "text/plain": [
       "  City_Code  Region_Code Accomodation_Type Reco_Insurance_Type   Upper_Age  \\\n",
       "0        C4  4436.213489             Owned          Individual   76.469126   \n",
       "1        C4  5628.674628            Rented          Individual   41.428607   \n",
       "2        C2  3050.625497            Rented          Individual   77.521854   \n",
       "3        C8  3282.979352            Rented               Joint  102.369049   \n",
       "4       C10  7391.098076            Rented               Joint   65.399605   \n",
       "\n",
       "   Lower_Age Is_Spouse Health Indicator Holding_Policy_Duration  \\\n",
       "0  86.353313       Yes               X4                       2   \n",
       "1  90.708114       Yes               X1                     NaN   \n",
       "2  41.575179       Yes               X1                     NaN   \n",
       "3  67.044419       Yes              NaN                     NaN   \n",
       "4  61.384969        No              NaN                       4   \n",
       "\n",
       "   Holding_Policy_Type  Reco_Policy_Cat  Reco_Policy_Premium  Response  \n",
       "0                  NaN        24.204855          40114.06942         0  \n",
       "1                  NaN        32.009301          46474.10308         1  \n",
       "2                  NaN        46.674483          27830.91139         0  \n",
       "3             5.905065        46.375886          16514.71879         0  \n",
       "4             5.869999        23.841896          38570.32725         0  "
      ]
     },
     "execution_count": 28,
     "metadata": {},
     "output_type": "execute_result"
    }
   ],
   "source": [
    "data_ins = pd.read_csv('Insurance.csv')\n",
    "data_ins.head()"
   ]
  },
  {
   "cell_type": "code",
   "execution_count": 29,
   "metadata": {},
   "outputs": [
    {
     "data": {
      "text/html": [
       "<div>\n",
       "<style scoped>\n",
       "    .dataframe tbody tr th:only-of-type {\n",
       "        vertical-align: middle;\n",
       "    }\n",
       "\n",
       "    .dataframe tbody tr th {\n",
       "        vertical-align: top;\n",
       "    }\n",
       "\n",
       "    .dataframe thead th {\n",
       "        text-align: right;\n",
       "    }\n",
       "</style>\n",
       "<table border=\"1\" class=\"dataframe\">\n",
       "  <thead>\n",
       "    <tr style=\"text-align: right;\">\n",
       "      <th></th>\n",
       "      <th>City_Code</th>\n",
       "      <th>Region_Code</th>\n",
       "      <th>Accomodation_Type</th>\n",
       "      <th>Reco_Insurance_Type</th>\n",
       "      <th>Upper_Age</th>\n",
       "      <th>Lower_Age</th>\n",
       "      <th>Is_Spouse</th>\n",
       "      <th>Health Indicator</th>\n",
       "      <th>Holding_Policy_Duration</th>\n",
       "      <th>Holding_Policy_Type</th>\n",
       "      <th>Reco_Policy_Cat</th>\n",
       "      <th>Reco_Policy_Premium</th>\n",
       "      <th>Response</th>\n",
       "    </tr>\n",
       "  </thead>\n",
       "  <tbody>\n",
       "    <tr>\n",
       "      <th>count</th>\n",
       "      <td>50882</td>\n",
       "      <td>50882.000000</td>\n",
       "      <td>50882</td>\n",
       "      <td>50882</td>\n",
       "      <td>50882.000000</td>\n",
       "      <td>50882.000000</td>\n",
       "      <td>50882</td>\n",
       "      <td>39191</td>\n",
       "      <td>30631</td>\n",
       "      <td>30631.000000</td>\n",
       "      <td>50882.000000</td>\n",
       "      <td>50882.000000</td>\n",
       "      <td>50882.000000</td>\n",
       "    </tr>\n",
       "    <tr>\n",
       "      <th>unique</th>\n",
       "      <td>36</td>\n",
       "      <td>NaN</td>\n",
       "      <td>2</td>\n",
       "      <td>2</td>\n",
       "      <td>NaN</td>\n",
       "      <td>NaN</td>\n",
       "      <td>2</td>\n",
       "      <td>9</td>\n",
       "      <td>15</td>\n",
       "      <td>NaN</td>\n",
       "      <td>NaN</td>\n",
       "      <td>NaN</td>\n",
       "      <td>NaN</td>\n",
       "    </tr>\n",
       "    <tr>\n",
       "      <th>top</th>\n",
       "      <td>C1</td>\n",
       "      <td>NaN</td>\n",
       "      <td>Rented</td>\n",
       "      <td>Joint</td>\n",
       "      <td>NaN</td>\n",
       "      <td>NaN</td>\n",
       "      <td>Yes</td>\n",
       "      <td>X1</td>\n",
       "      <td>1</td>\n",
       "      <td>NaN</td>\n",
       "      <td>NaN</td>\n",
       "      <td>NaN</td>\n",
       "      <td>NaN</td>\n",
       "    </tr>\n",
       "    <tr>\n",
       "      <th>freq</th>\n",
       "      <td>8973</td>\n",
       "      <td>NaN</td>\n",
       "      <td>27951</td>\n",
       "      <td>40536</td>\n",
       "      <td>NaN</td>\n",
       "      <td>NaN</td>\n",
       "      <td>42460</td>\n",
       "      <td>13010</td>\n",
       "      <td>4499</td>\n",
       "      <td>NaN</td>\n",
       "      <td>NaN</td>\n",
       "      <td>NaN</td>\n",
       "      <td>NaN</td>\n",
       "    </tr>\n",
       "    <tr>\n",
       "      <th>mean</th>\n",
       "      <td>NaN</td>\n",
       "      <td>3630.059662</td>\n",
       "      <td>NaN</td>\n",
       "      <td>NaN</td>\n",
       "      <td>74.855722</td>\n",
       "      <td>72.738313</td>\n",
       "      <td>NaN</td>\n",
       "      <td>NaN</td>\n",
       "      <td>NaN</td>\n",
       "      <td>5.441285</td>\n",
       "      <td>31.221175</td>\n",
       "      <td>30377.941494</td>\n",
       "      <td>0.239947</td>\n",
       "    </tr>\n",
       "    <tr>\n",
       "      <th>std</th>\n",
       "      <td>NaN</td>\n",
       "      <td>2143.637172</td>\n",
       "      <td>NaN</td>\n",
       "      <td>NaN</td>\n",
       "      <td>18.632798</td>\n",
       "      <td>18.632716</td>\n",
       "      <td>NaN</td>\n",
       "      <td>NaN</td>\n",
       "      <td>NaN</td>\n",
       "      <td>1.657782</td>\n",
       "      <td>9.729739</td>\n",
       "      <td>9529.102284</td>\n",
       "      <td>0.427055</td>\n",
       "    </tr>\n",
       "    <tr>\n",
       "      <th>min</th>\n",
       "      <td>NaN</td>\n",
       "      <td>-4492.266835</td>\n",
       "      <td>NaN</td>\n",
       "      <td>NaN</td>\n",
       "      <td>25.973771</td>\n",
       "      <td>25.973771</td>\n",
       "      <td>NaN</td>\n",
       "      <td>NaN</td>\n",
       "      <td>NaN</td>\n",
       "      <td>-0.607819</td>\n",
       "      <td>-16.749716</td>\n",
       "      <td>-4144.440778</td>\n",
       "      <td>0.000000</td>\n",
       "    </tr>\n",
       "    <tr>\n",
       "      <th>25%</th>\n",
       "      <td>NaN</td>\n",
       "      <td>2138.278114</td>\n",
       "      <td>NaN</td>\n",
       "      <td>NaN</td>\n",
       "      <td>59.354170</td>\n",
       "      <td>57.332956</td>\n",
       "      <td>NaN</td>\n",
       "      <td>NaN</td>\n",
       "      <td>NaN</td>\n",
       "      <td>4.306336</td>\n",
       "      <td>24.854866</td>\n",
       "      <td>23800.043783</td>\n",
       "      <td>0.000000</td>\n",
       "    </tr>\n",
       "    <tr>\n",
       "      <th>50%</th>\n",
       "      <td>NaN</td>\n",
       "      <td>3521.021600</td>\n",
       "      <td>NaN</td>\n",
       "      <td>NaN</td>\n",
       "      <td>73.685134</td>\n",
       "      <td>70.678546</td>\n",
       "      <td>NaN</td>\n",
       "      <td>NaN</td>\n",
       "      <td>NaN</td>\n",
       "      <td>5.462659</td>\n",
       "      <td>31.784927</td>\n",
       "      <td>29985.439205</td>\n",
       "      <td>0.000000</td>\n",
       "    </tr>\n",
       "    <tr>\n",
       "      <th>75%</th>\n",
       "      <td>NaN</td>\n",
       "      <td>5039.351642</td>\n",
       "      <td>NaN</td>\n",
       "      <td>NaN</td>\n",
       "      <td>89.656141</td>\n",
       "      <td>87.482441</td>\n",
       "      <td>NaN</td>\n",
       "      <td>NaN</td>\n",
       "      <td>NaN</td>\n",
       "      <td>6.600110</td>\n",
       "      <td>38.058563</td>\n",
       "      <td>36533.967082</td>\n",
       "      <td>0.000000</td>\n",
       "    </tr>\n",
       "    <tr>\n",
       "      <th>max</th>\n",
       "      <td>NaN</td>\n",
       "      <td>13122.121450</td>\n",
       "      <td>NaN</td>\n",
       "      <td>NaN</td>\n",
       "      <td>130.700722</td>\n",
       "      <td>130.700722</td>\n",
       "      <td>NaN</td>\n",
       "      <td>NaN</td>\n",
       "      <td>NaN</td>\n",
       "      <td>12.063335</td>\n",
       "      <td>67.247962</td>\n",
       "      <td>72046.904400</td>\n",
       "      <td>1.000000</td>\n",
       "    </tr>\n",
       "  </tbody>\n",
       "</table>\n",
       "</div>"
      ],
      "text/plain": [
       "       City_Code   Region_Code Accomodation_Type Reco_Insurance_Type  \\\n",
       "count      50882  50882.000000             50882               50882   \n",
       "unique        36           NaN                 2                   2   \n",
       "top           C1           NaN            Rented               Joint   \n",
       "freq        8973           NaN             27951               40536   \n",
       "mean         NaN   3630.059662               NaN                 NaN   \n",
       "std          NaN   2143.637172               NaN                 NaN   \n",
       "min          NaN  -4492.266835               NaN                 NaN   \n",
       "25%          NaN   2138.278114               NaN                 NaN   \n",
       "50%          NaN   3521.021600               NaN                 NaN   \n",
       "75%          NaN   5039.351642               NaN                 NaN   \n",
       "max          NaN  13122.121450               NaN                 NaN   \n",
       "\n",
       "           Upper_Age     Lower_Age Is_Spouse Health Indicator  \\\n",
       "count   50882.000000  50882.000000     50882            39191   \n",
       "unique           NaN           NaN         2                9   \n",
       "top              NaN           NaN       Yes               X1   \n",
       "freq             NaN           NaN     42460            13010   \n",
       "mean       74.855722     72.738313       NaN              NaN   \n",
       "std        18.632798     18.632716       NaN              NaN   \n",
       "min        25.973771     25.973771       NaN              NaN   \n",
       "25%        59.354170     57.332956       NaN              NaN   \n",
       "50%        73.685134     70.678546       NaN              NaN   \n",
       "75%        89.656141     87.482441       NaN              NaN   \n",
       "max       130.700722    130.700722       NaN              NaN   \n",
       "\n",
       "       Holding_Policy_Duration  Holding_Policy_Type  Reco_Policy_Cat  \\\n",
       "count                    30631         30631.000000     50882.000000   \n",
       "unique                      15                  NaN              NaN   \n",
       "top                          1                  NaN              NaN   \n",
       "freq                      4499                  NaN              NaN   \n",
       "mean                       NaN             5.441285        31.221175   \n",
       "std                        NaN             1.657782         9.729739   \n",
       "min                        NaN            -0.607819       -16.749716   \n",
       "25%                        NaN             4.306336        24.854866   \n",
       "50%                        NaN             5.462659        31.784927   \n",
       "75%                        NaN             6.600110        38.058563   \n",
       "max                        NaN            12.063335        67.247962   \n",
       "\n",
       "        Reco_Policy_Premium      Response  \n",
       "count          50882.000000  50882.000000  \n",
       "unique                  NaN           NaN  \n",
       "top                     NaN           NaN  \n",
       "freq                    NaN           NaN  \n",
       "mean           30377.941494      0.239947  \n",
       "std             9529.102284      0.427055  \n",
       "min            -4144.440778      0.000000  \n",
       "25%            23800.043783      0.000000  \n",
       "50%            29985.439205      0.000000  \n",
       "75%            36533.967082      0.000000  \n",
       "max            72046.904400      1.000000  "
      ]
     },
     "execution_count": 29,
     "metadata": {},
     "output_type": "execute_result"
    }
   ],
   "source": [
    "data_ins.describe(include = 'all')"
   ]
  },
  {
   "cell_type": "markdown",
   "metadata": {},
   "source": [
    "# 1.\tWhich column has the highest number of missing values in the dataset? Find the columns and missing values. Create a bar plot for a number of missing values and replace or remove the missing values from the dataset. [ 3 Marks]\n",
    "\n"
   ]
  },
  {
   "cell_type": "code",
   "execution_count": 30,
   "metadata": {
    "scrolled": true
   },
   "outputs": [
    {
     "data": {
      "text/html": [
       "<div>\n",
       "<style scoped>\n",
       "    .dataframe tbody tr th:only-of-type {\n",
       "        vertical-align: middle;\n",
       "    }\n",
       "\n",
       "    .dataframe tbody tr th {\n",
       "        vertical-align: top;\n",
       "    }\n",
       "\n",
       "    .dataframe thead th {\n",
       "        text-align: right;\n",
       "    }\n",
       "</style>\n",
       "<table border=\"1\" class=\"dataframe\">\n",
       "  <thead>\n",
       "    <tr style=\"text-align: right;\">\n",
       "      <th></th>\n",
       "      <th>Columns</th>\n",
       "      <th>Missing Values</th>\n",
       "    </tr>\n",
       "  </thead>\n",
       "  <tbody>\n",
       "    <tr>\n",
       "      <th>Holding_Policy_Duration</th>\n",
       "      <td>Holding_Policy_Duration</td>\n",
       "      <td>20251</td>\n",
       "    </tr>\n",
       "    <tr>\n",
       "      <th>Holding_Policy_Type</th>\n",
       "      <td>Holding_Policy_Type</td>\n",
       "      <td>20251</td>\n",
       "    </tr>\n",
       "    <tr>\n",
       "      <th>Health Indicator</th>\n",
       "      <td>Health Indicator</td>\n",
       "      <td>11691</td>\n",
       "    </tr>\n",
       "    <tr>\n",
       "      <th>City_Code</th>\n",
       "      <td>City_Code</td>\n",
       "      <td>0</td>\n",
       "    </tr>\n",
       "    <tr>\n",
       "      <th>Region_Code</th>\n",
       "      <td>Region_Code</td>\n",
       "      <td>0</td>\n",
       "    </tr>\n",
       "    <tr>\n",
       "      <th>Accomodation_Type</th>\n",
       "      <td>Accomodation_Type</td>\n",
       "      <td>0</td>\n",
       "    </tr>\n",
       "    <tr>\n",
       "      <th>Reco_Insurance_Type</th>\n",
       "      <td>Reco_Insurance_Type</td>\n",
       "      <td>0</td>\n",
       "    </tr>\n",
       "    <tr>\n",
       "      <th>Upper_Age</th>\n",
       "      <td>Upper_Age</td>\n",
       "      <td>0</td>\n",
       "    </tr>\n",
       "    <tr>\n",
       "      <th>Lower_Age</th>\n",
       "      <td>Lower_Age</td>\n",
       "      <td>0</td>\n",
       "    </tr>\n",
       "    <tr>\n",
       "      <th>Is_Spouse</th>\n",
       "      <td>Is_Spouse</td>\n",
       "      <td>0</td>\n",
       "    </tr>\n",
       "    <tr>\n",
       "      <th>Reco_Policy_Cat</th>\n",
       "      <td>Reco_Policy_Cat</td>\n",
       "      <td>0</td>\n",
       "    </tr>\n",
       "    <tr>\n",
       "      <th>Reco_Policy_Premium</th>\n",
       "      <td>Reco_Policy_Premium</td>\n",
       "      <td>0</td>\n",
       "    </tr>\n",
       "    <tr>\n",
       "      <th>Response</th>\n",
       "      <td>Response</td>\n",
       "      <td>0</td>\n",
       "    </tr>\n",
       "  </tbody>\n",
       "</table>\n",
       "</div>"
      ],
      "text/plain": [
       "                                         Columns  Missing Values\n",
       "Holding_Policy_Duration  Holding_Policy_Duration           20251\n",
       "Holding_Policy_Type          Holding_Policy_Type           20251\n",
       "Health Indicator                Health Indicator           11691\n",
       "City_Code                              City_Code               0\n",
       "Region_Code                          Region_Code               0\n",
       "Accomodation_Type              Accomodation_Type               0\n",
       "Reco_Insurance_Type          Reco_Insurance_Type               0\n",
       "Upper_Age                              Upper_Age               0\n",
       "Lower_Age                              Lower_Age               0\n",
       "Is_Spouse                              Is_Spouse               0\n",
       "Reco_Policy_Cat                  Reco_Policy_Cat               0\n",
       "Reco_Policy_Premium          Reco_Policy_Premium               0\n",
       "Response                                Response               0"
      ]
     },
     "execution_count": 30,
     "metadata": {},
     "output_type": "execute_result"
    }
   ],
   "source": [
    "missing_data = pd.DataFrame({'Columns': data_ins.columns,\n",
    "                             'Missing Values':data_ins.isnull().sum()})\n",
    "\n",
    "missing_data.sort_values(by='Missing Values',ascending = False)"
   ]
  },
  {
   "cell_type": "markdown",
   "metadata": {},
   "source": [
    "#Remarks: Holding_Policy_Duration & Holding_Policy_Type have the highest no. of missing values at 20,251 each.\n"
   ]
  },
  {
   "cell_type": "code",
   "execution_count": 31,
   "metadata": {},
   "outputs": [
    {
     "data": {
      "text/plain": [
       "Text(0.5, 1.0, 'Missing Values of Dataset')"
      ]
     },
     "execution_count": 31,
     "metadata": {},
     "output_type": "execute_result"
    },
    {
     "data": {
      "image/png": "[encoded data removed]",
      "text/plain": [
       "<Figure size 432x288 with 1 Axes>"
      ]
     },
     "metadata": {
      "needs_background": "light"
     },
     "output_type": "display_data"
    }
   ],
   "source": [
    "missing_data = data_ins.isnull().sum().sort_values(ascending = False)\n",
    "\n",
    "missing_data = missing_data[missing_data != 0]\n",
    "\n",
    "missing_data.plot(kind = 'bar')\n",
    "\n",
    "plt.title('Missing Values of Dataset')"
   ]
  },
  {
   "cell_type": "markdown",
   "metadata": {},
   "source": [
    "# Handling NULL values of Dataset & Cleaning Data"
   ]
  },
  {
   "cell_type": "code",
   "execution_count": 32,
   "metadata": {},
   "outputs": [],
   "source": [
    "clients_NA = ['Holding_Policy_Duration','Holding_Policy_Type']\n",
    "for column in clients_NA:\n",
    "    data_ins[column] = data_ins[column].fillna(0)"
   ]
  },
  {
   "cell_type": "code",
   "execution_count": 33,
   "metadata": {},
   "outputs": [],
   "source": [
    "data_ins['Holding_Policy_Duration'] = data_ins['Holding_Policy_Duration'].fillna(0)"
   ]
  },
  {
   "cell_type": "code",
   "execution_count": 34,
   "metadata": {},
   "outputs": [],
   "source": [
    "data_ins['Holding_Policy_Type'] = data_ins['Holding_Policy_Type'].fillna(0)"
   ]
  },
  {
   "cell_type": "code",
   "execution_count": 35,
   "metadata": {},
   "outputs": [],
   "source": [
    "data_ins['Health Indicator'] = data_ins['Health Indicator'].fillna(data_ins['Health Indicator'].mode()[0])"
   ]
  },
  {
   "cell_type": "code",
   "execution_count": 36,
   "metadata": {},
   "outputs": [],
   "source": [
    "data_ins.rename(columns = {'Is_Spouse':'Married','Health Indicator':'Health_Indicator'}, inplace = True)"
   ]
  },
  {
   "cell_type": "code",
   "execution_count": 37,
   "metadata": {},
   "outputs": [],
   "source": [
    "data_ins['Holding_Policy_Duration'] = data_ins['Holding_Policy_Duration'].replace('14+',15).astype(float).astype(int)"
   ]
  },
  {
   "cell_type": "code",
   "execution_count": 38,
   "metadata": {},
   "outputs": [],
   "source": [
    "data_ins['Age'] = (data_ins['Upper_Age'] + data_ins['Lower_Age']) / 2"
   ]
  },
  {
   "cell_type": "code",
   "execution_count": 39,
   "metadata": {},
   "outputs": [],
   "source": [
    "data_ins.drop(columns =['Upper_Age','Lower_Age'] , inplace = True)"
   ]
  },
  {
   "cell_type": "code",
   "execution_count": 40,
   "metadata": {},
   "outputs": [],
   "source": [
    "data_ins =  data_ins.round({'Reco_Policy_Cat' : 0, 'Reco_Policy_Premium':2, 'Holding_Policy_Type':0 , 'Region_Code':0})"
   ]
  },
  {
   "cell_type": "code",
   "execution_count": 41,
   "metadata": {},
   "outputs": [],
   "source": [
    "data_ins['Reco_Policy_Cat'] = data_ins['Reco_Policy_Cat'].astype(int)\n",
    "data_ins['Holding_Policy_Type'] = data_ins['Holding_Policy_Type'].astype(int)\n",
    "data_ins['Region_Code'] = data_ins['Region_Code'].astype(int)"
   ]
  },
  {
   "cell_type": "markdown",
   "metadata": {},
   "source": [
    "# 2.\tCheck the distribution of the dataset? [ 3 Marks]"
   ]
  },
  {
   "cell_type": "code",
   "execution_count": 43,
   "metadata": {},
   "outputs": [
    {
     "name": "stderr",
     "output_type": "stream",
     "text": [
      "C:\\Users\\nidhi\\anaconda3\\lib\\site-packages\\seaborn\\distributions.py:2619: FutureWarning: `distplot` is a deprecated function and will be removed in a future version. Please adapt your code to use either `displot` (a figure-level function with similar flexibility) or `histplot` (an axes-level function for histograms).\n",
      "  warnings.warn(msg, FutureWarning)\n"
     ]
    },
    {
     "data": {
      "text/plain": [
       "<matplotlib.axes._subplots.AxesSubplot at 0x1a459489d30>"
      ]
     },
     "execution_count": 43,
     "metadata": {},
     "output_type": "execute_result"
    },
    {
     "data": {
      "image/png": "[encoded data removed]",
      "text/plain": [
       "<Figure size 432x288 with 1 Axes>"
      ]
     },
     "metadata": {
      "needs_background": "light"
     },
     "output_type": "display_data"
    }
   ],
   "source": [
    "sns.distplot(data_ins.Reco_Policy_Premium)"
   ]
  },
  {
   "cell_type": "code",
   "execution_count": 44,
   "metadata": {},
   "outputs": [
    {
     "name": "stderr",
     "output_type": "stream",
     "text": [
      "C:\\Users\\nidhi\\anaconda3\\lib\\site-packages\\seaborn\\distributions.py:2619: FutureWarning: `distplot` is a deprecated function and will be removed in a future version. Please adapt your code to use either `displot` (a figure-level function with similar flexibility) or `histplot` (an axes-level function for histograms).\n",
      "  warnings.warn(msg, FutureWarning)\n"
     ]
    },
    {
     "data": {
      "text/plain": [
       "<matplotlib.axes._subplots.AxesSubplot at 0x1a458ef0cf8>"
      ]
     },
     "execution_count": 44,
     "metadata": {},
     "output_type": "execute_result"
    },
    {
     "data": {
      "image/png": "[encoded data removed]",
      "text/plain": [
       "<Figure size 432x288 with 1 Axes>"
      ]
     },
     "metadata": {
      "needs_background": "light"
     },
     "output_type": "display_data"
    }
   ],
   "source": [
    "sns.distplot(data_ins.Holding_Policy_Duration)"
   ]
  },
  {
   "cell_type": "code",
   "execution_count": 45,
   "metadata": {},
   "outputs": [
    {
     "name": "stderr",
     "output_type": "stream",
     "text": [
      "C:\\Users\\nidhi\\anaconda3\\lib\\site-packages\\seaborn\\distributions.py:2619: FutureWarning: `distplot` is a deprecated function and will be removed in a future version. Please adapt your code to use either `displot` (a figure-level function with similar flexibility) or `histplot` (an axes-level function for histograms).\n",
      "  warnings.warn(msg, FutureWarning)\n"
     ]
    },
    {
     "data": {
      "text/plain": [
       "<matplotlib.axes._subplots.AxesSubplot at 0x1a458fe5780>"
      ]
     },
     "execution_count": 45,
     "metadata": {},
     "output_type": "execute_result"
    },
    {
     "data": {
      "image/png": "[encoded data removed]",
      "text/plain": [
       "<Figure size 432x288 with 1 Axes>"
      ]
     },
     "metadata": {
      "needs_background": "light"
     },
     "output_type": "display_data"
    }
   ],
   "source": [
    "sns.distplot(data_ins.Age)"
   ]
  },
  {
   "cell_type": "markdown",
   "metadata": {},
   "source": [
    "# 3.\tFind the region having the highest customer count? Visualize this by creating a count plot. [ 2 Marks]"
   ]
  },
  {
   "cell_type": "code",
   "execution_count": 50,
   "metadata": {},
   "outputs": [],
   "source": [
    "data_ins['Region_Code'] = data_ins['Region_Code'].astype(int)\n",
    "region_labels=[]\n",
    "\n",
    "for val in data_ins['Region_Code']:\n",
    "    if 0< val <2000:\n",
    "        region_labels.append('A')\n",
    "    elif 2001< val <4000:\n",
    "        region_labels.append('B') \n",
    "    elif 4001< val <6000:\n",
    "        region_labels.append('C') \n",
    "    elif 6001 < val < 8000:\n",
    "        region_labels.append('D')   \n",
    "    elif 8001< val <10000:\n",
    "        region_labels.append('E') \n",
    "    else:\n",
    "        region_labels.append('F')\n",
    "    \n",
    "data_ins['Region_Labels'] = region_labels"
   ]
  },
  {
   "cell_type": "code",
   "execution_count": 53,
   "metadata": {},
   "outputs": [
    {
     "data": {
      "text/plain": [
       "<matplotlib.axes._subplots.AxesSubplot at 0x1a4690a2d68>"
      ]
     },
     "execution_count": 53,
     "metadata": {},
     "output_type": "execute_result"
    },
    {
     "data": {
      "image/png": "[encoded data removed]",
      "text/plain": [
       "<Figure size 432x288 with 1 Axes>"
      ]
     },
     "metadata": {
      "needs_background": "light"
     },
     "output_type": "display_data"
    }
   ],
   "source": [
    "sns.countplot(x='Holding_Policy_Type',hue='Region_Labels',data=data_ins)"
   ]
  },
  {
   "cell_type": "markdown",
   "metadata": {},
   "source": [
    "Region C has highest customer count"
   ]
  },
  {
   "cell_type": "markdown",
   "metadata": {},
   "source": [
    "# 4.\tWhich type of insurance policy is more recommended by the Life Insurance Company. [ 5 Marks]"
   ]
  },
  {
   "cell_type": "code",
   "execution_count": 254,
   "metadata": {},
   "outputs": [
    {
     "data": {
      "text/plain": [
       "<matplotlib.axes._subplots.AxesSubplot at 0x2391aecf2b0>"
      ]
     },
     "execution_count": 254,
     "metadata": {},
     "output_type": "execute_result"
    },
    {
     "data": {
      "image/png": "[encoded data removed]",
      "text/plain": [
       "<Figure size 432x288 with 1 Axes>"
      ]
     },
     "metadata": {
      "needs_background": "light"
     },
     "output_type": "display_data"
    }
   ],
   "source": [
    "sns.histplot(data_ins, x='Reco_Insurance_Type')"
   ]
  },
  {
   "cell_type": "markdown",
   "metadata": {},
   "source": [
    "0 is Individual\n",
    "1 is Joint\n",
    "\n",
    "Joint Insurance Type is more recommended."
   ]
  },
  {
   "cell_type": "markdown",
   "metadata": {},
   "source": [
    "# 5.\tCheck if there is any linear relationship exist within the dataset. Visualize this by using a correlation matrix. [ 2 Marks]"
   ]
  },
  {
   "cell_type": "code",
   "execution_count": 54,
   "metadata": {},
   "outputs": [
    {
     "data": {
      "text/html": [
       "<div>\n",
       "<style scoped>\n",
       "    .dataframe tbody tr th:only-of-type {\n",
       "        vertical-align: middle;\n",
       "    }\n",
       "\n",
       "    .dataframe tbody tr th {\n",
       "        vertical-align: top;\n",
       "    }\n",
       "\n",
       "    .dataframe thead th {\n",
       "        text-align: right;\n",
       "    }\n",
       "</style>\n",
       "<table border=\"1\" class=\"dataframe\">\n",
       "  <thead>\n",
       "    <tr style=\"text-align: right;\">\n",
       "      <th></th>\n",
       "      <th>Region_Code</th>\n",
       "      <th>Holding_Policy_Duration</th>\n",
       "      <th>Holding_Policy_Type</th>\n",
       "      <th>Reco_Policy_Cat</th>\n",
       "      <th>Reco_Policy_Premium</th>\n",
       "      <th>Response</th>\n",
       "      <th>Age</th>\n",
       "    </tr>\n",
       "  </thead>\n",
       "  <tbody>\n",
       "    <tr>\n",
       "      <th>Region_Code</th>\n",
       "      <td>1.000000</td>\n",
       "      <td>-0.005581</td>\n",
       "      <td>-0.007024</td>\n",
       "      <td>-0.005885</td>\n",
       "      <td>0.001808</td>\n",
       "      <td>0.005943</td>\n",
       "      <td>-0.003402</td>\n",
       "    </tr>\n",
       "    <tr>\n",
       "      <th>Holding_Policy_Duration</th>\n",
       "      <td>-0.005581</td>\n",
       "      <td>1.000000</td>\n",
       "      <td>-0.000925</td>\n",
       "      <td>-0.004474</td>\n",
       "      <td>-0.004315</td>\n",
       "      <td>0.003436</td>\n",
       "      <td>0.000541</td>\n",
       "    </tr>\n",
       "    <tr>\n",
       "      <th>Holding_Policy_Type</th>\n",
       "      <td>-0.007024</td>\n",
       "      <td>-0.000925</td>\n",
       "      <td>1.000000</td>\n",
       "      <td>-0.008548</td>\n",
       "      <td>-0.007999</td>\n",
       "      <td>-0.003166</td>\n",
       "      <td>-0.003846</td>\n",
       "    </tr>\n",
       "    <tr>\n",
       "      <th>Reco_Policy_Cat</th>\n",
       "      <td>-0.005885</td>\n",
       "      <td>-0.004474</td>\n",
       "      <td>-0.008548</td>\n",
       "      <td>1.000000</td>\n",
       "      <td>0.005487</td>\n",
       "      <td>0.007107</td>\n",
       "      <td>-0.000899</td>\n",
       "    </tr>\n",
       "    <tr>\n",
       "      <th>Reco_Policy_Premium</th>\n",
       "      <td>0.001808</td>\n",
       "      <td>-0.004315</td>\n",
       "      <td>-0.007999</td>\n",
       "      <td>0.005487</td>\n",
       "      <td>1.000000</td>\n",
       "      <td>0.003032</td>\n",
       "      <td>-0.004009</td>\n",
       "    </tr>\n",
       "    <tr>\n",
       "      <th>Response</th>\n",
       "      <td>0.005943</td>\n",
       "      <td>0.003436</td>\n",
       "      <td>-0.003166</td>\n",
       "      <td>0.007107</td>\n",
       "      <td>0.003032</td>\n",
       "      <td>1.000000</td>\n",
       "      <td>-0.001819</td>\n",
       "    </tr>\n",
       "    <tr>\n",
       "      <th>Age</th>\n",
       "      <td>-0.003402</td>\n",
       "      <td>0.000541</td>\n",
       "      <td>-0.003846</td>\n",
       "      <td>-0.000899</td>\n",
       "      <td>-0.004009</td>\n",
       "      <td>-0.001819</td>\n",
       "      <td>1.000000</td>\n",
       "    </tr>\n",
       "  </tbody>\n",
       "</table>\n",
       "</div>"
      ],
      "text/plain": [
       "                         Region_Code  Holding_Policy_Duration  \\\n",
       "Region_Code                 1.000000                -0.005581   \n",
       "Holding_Policy_Duration    -0.005581                 1.000000   \n",
       "Holding_Policy_Type        -0.007024                -0.000925   \n",
       "Reco_Policy_Cat            -0.005885                -0.004474   \n",
       "Reco_Policy_Premium         0.001808                -0.004315   \n",
       "Response                    0.005943                 0.003436   \n",
       "Age                        -0.003402                 0.000541   \n",
       "\n",
       "                         Holding_Policy_Type  Reco_Policy_Cat  \\\n",
       "Region_Code                        -0.007024        -0.005885   \n",
       "Holding_Policy_Duration            -0.000925        -0.004474   \n",
       "Holding_Policy_Type                 1.000000        -0.008548   \n",
       "Reco_Policy_Cat                    -0.008548         1.000000   \n",
       "Reco_Policy_Premium                -0.007999         0.005487   \n",
       "Response                           -0.003166         0.007107   \n",
       "Age                                -0.003846        -0.000899   \n",
       "\n",
       "                         Reco_Policy_Premium  Response       Age  \n",
       "Region_Code                         0.001808  0.005943 -0.003402  \n",
       "Holding_Policy_Duration            -0.004315  0.003436  0.000541  \n",
       "Holding_Policy_Type                -0.007999 -0.003166 -0.003846  \n",
       "Reco_Policy_Cat                     0.005487  0.007107 -0.000899  \n",
       "Reco_Policy_Premium                 1.000000  0.003032 -0.004009  \n",
       "Response                            0.003032  1.000000 -0.001819  \n",
       "Age                                -0.004009 -0.001819  1.000000  "
      ]
     },
     "execution_count": 54,
     "metadata": {},
     "output_type": "execute_result"
    }
   ],
   "source": [
    "data_ins.corr()"
   ]
  },
  {
   "cell_type": "code",
   "execution_count": 55,
   "metadata": {},
   "outputs": [
    {
     "data": {
      "text/plain": [
       "<matplotlib.axes._subplots.AxesSubplot at 0x1a46932b198>"
      ]
     },
     "execution_count": 55,
     "metadata": {},
     "output_type": "execute_result"
    },
    {
     "data": {
      "image/png": "[encoded data removed]",
      "text/plain": [
       "<Figure size 432x288 with 2 Axes>"
      ]
     },
     "metadata": {
      "needs_background": "light"
     },
     "output_type": "display_data"
    }
   ],
   "source": [
    "sns.heatmap(data_ins.corr())"
   ]
  },
  {
   "cell_type": "markdown",
   "metadata": {},
   "source": [
    "# 6.\tCheck which category of the insurance policy is more recommended. [ 3 Marks]"
   ]
  },
  {
   "cell_type": "code",
   "execution_count": 259,
   "metadata": {},
   "outputs": [],
   "source": [
    "data_ins['Reco_Policy_Cat']=data_ins['Reco_Policy_Cat'].astype(int)\n",
    "Cat_Policy=[]\n",
    "for val in data_ins['Reco_Policy_Cat']:\n",
    "    if 0 <val< 20:\n",
    "        Cat_Policy.append('CAT1')\n",
    "    elif 21 <val< 40:\n",
    "        Cat_Policy.append('CAT2')\n",
    "    elif 41 <val< 60:\n",
    "        Cat_Policy.append('CAT3')      \n",
    "    else:\n",
    "        Cat_Policy.append('CAT4')\n",
    "    \n",
    "data_ins['Reco_Policy_Category']=Cat_Policy"
   ]
  },
  {
   "cell_type": "code",
   "execution_count": 260,
   "metadata": {},
   "outputs": [
    {
     "data": {
      "text/plain": [
       "<matplotlib.axes._subplots.AxesSubplot at 0x2391ac1e940>"
      ]
     },
     "execution_count": 260,
     "metadata": {},
     "output_type": "execute_result"
    },
    {
     "data": {
      "image/png": "[encoded data removed]",
      "text/plain": [
       "<Figure size 432x288 with 1 Axes>"
      ]
     },
     "metadata": {
      "needs_background": "light"
     },
     "output_type": "display_data"
    }
   ],
   "source": [
    "sns.histplot(data_ins, x= 'Reco_Policy_Category')"
   ]
  },
  {
   "cell_type": "markdown",
   "metadata": {},
   "source": [
    "# 7.\tAs per accommodation, who are more interested in buying out the insurance policy. [ 2 Marks]"
   ]
  },
  {
   "cell_type": "code",
   "execution_count": 261,
   "metadata": {},
   "outputs": [
    {
     "data": {
      "text/plain": [
       "<matplotlib.axes._subplots.AxesSubplot at 0x2391acafa58>"
      ]
     },
     "execution_count": 261,
     "metadata": {},
     "output_type": "execute_result"
    },
    {
     "data": {
      "image/png": "[encoded data removed]",
      "text/plain": [
       "<Figure size 432x288 with 1 Axes>"
      ]
     },
     "metadata": {
      "needs_background": "light"
     },
     "output_type": "display_data"
    }
   ],
   "source": [
    "sns.countplot(x = 'Accomodation_Type', hue = 'Response', data = data_ins)"
   ]
  },
  {
   "cell_type": "markdown",
   "metadata": {},
   "source": [
    "# 8.\tWhich type of customers are more interested in buying out the policy. Visualize this via count plot. [ 3 Marks]"
   ]
  },
  {
   "cell_type": "code",
   "execution_count": 57,
   "metadata": {},
   "outputs": [],
   "source": [
    "#Categorizing age in groups\n",
    "Age_Category=[]\n",
    "for val in data_ins['Age']:\n",
    "    if 0 < val < 30:\n",
    "        Age_Category.append('0_30')\n",
    "    elif 31 <val< 60:\n",
    "        Age_Category.append('31_60')\n",
    "    elif 61 <val< 90:\n",
    "        Age_Category.append('61_90')\n",
    "    elif 91 <val< 120:\n",
    "        Age_Category.append('91_120')\n",
    "    else:\n",
    "        Age_Category.append('Range Exceeded')\n",
    "data_ins['Age_Category']=  Age_Category  "
   ]
  },
  {
   "cell_type": "code",
   "execution_count": 58,
   "metadata": {},
   "outputs": [
    {
     "data": {
      "text/plain": [
       "<matplotlib.axes._subplots.AxesSubplot at 0x1a46f471be0>"
      ]
     },
     "execution_count": 58,
     "metadata": {},
     "output_type": "execute_result"
    },
    {
     "data": {
      "image/png": "[encoded data removed]",
      "text/plain": [
       "<Figure size 432x288 with 1 Axes>"
      ]
     },
     "metadata": {
      "needs_background": "light"
     },
     "output_type": "display_data"
    }
   ],
   "source": [
    "sns.countplot(data =  data_ins, x = 'Age_Category', hue = 'Response')"
   ]
  },
  {
   "cell_type": "code",
   "execution_count": 59,
   "metadata": {},
   "outputs": [],
   "source": [
    "data_ins['Cust_Type'] = data_ins['Holding_Policy_Duration'].apply(lambda x : 'New' if x == 0 else 'Old')"
   ]
  },
  {
   "cell_type": "code",
   "execution_count": 60,
   "metadata": {},
   "outputs": [
    {
     "data": {
      "text/plain": [
       "<matplotlib.axes._subplots.AxesSubplot at 0x1a46f4dce48>"
      ]
     },
     "execution_count": 60,
     "metadata": {},
     "output_type": "execute_result"
    },
    {
     "data": {
      "image/png": "[encoded data removed]",
      "text/plain": [
       "<Figure size 432x288 with 1 Axes>"
      ]
     },
     "metadata": {
      "needs_background": "light"
     },
     "output_type": "display_data"
    }
   ],
   "source": [
    "sns.countplot(data =  data_ins, x = 'Cust_Type', hue = 'Response')"
   ]
  },
  {
   "cell_type": "markdown",
   "metadata": {},
   "source": [
    "# 9.\tAre unmarried couples more interested in buying out the insurance policy? Visualize this via count plot. [ 2 Marks]"
   ]
  },
  {
   "cell_type": "code",
   "execution_count": 63,
   "metadata": {},
   "outputs": [
    {
     "data": {
      "text/plain": [
       "<matplotlib.axes._subplots.AxesSubplot at 0x1a46f52ef28>"
      ]
     },
     "execution_count": 63,
     "metadata": {},
     "output_type": "execute_result"
    },
    {
     "data": {
      "image/png": "[encoded data removed]",
      "text/plain": [
       "<Figure size 432x288 with 1 Axes>"
      ]
     },
     "metadata": {
      "needs_background": "light"
     },
     "output_type": "display_data"
    }
   ],
   "source": [
    "sns.countplot(data = data_ins, x = 'Married', hue = 'Response')"
   ]
  },
  {
   "cell_type": "markdown",
   "metadata": {},
   "source": [
    "# 10.\tIs there any difference in Recommended policy premium in accordance with the types of recommendation? [ 5 Marks]"
   ]
  },
  {
   "cell_type": "code",
   "execution_count": 64,
   "metadata": {},
   "outputs": [
    {
     "data": {
      "text/plain": [
       "1325     -4144.44\n",
       "27520    -2893.36\n",
       "23123    -2216.63\n",
       "3348     -1871.29\n",
       "4151     -1868.42\n",
       "           ...   \n",
       "32276    67934.65\n",
       "37241    67983.69\n",
       "29213    68636.15\n",
       "38613    69075.42\n",
       "12851    72046.90\n",
       "Name: Reco_Policy_Premium, Length: 50882, dtype: float64"
      ]
     },
     "execution_count": 64,
     "metadata": {},
     "output_type": "execute_result"
    }
   ],
   "source": [
    "data_ins['Reco_Policy_Premium'].sort_values()"
   ]
  },
  {
   "cell_type": "code",
   "execution_count": 65,
   "metadata": {},
   "outputs": [],
   "source": [
    "data_ins['Reco_Policy_Premium'] = data_ins['Reco_Policy_Premium'].astype(int)\n",
    "Premium_labels=[]\n",
    "\n",
    "for val in data_ins['Reco_Policy_Premium']:\n",
    "    if 0< val < 5000:\n",
    "        Premium_labels.append('A')\n",
    "    elif 5001 < val < 10000:\n",
    "        Premium_labels.append('B') \n",
    "    elif 10001 < val < 15000:\n",
    "        Premium_labels.append('C') \n",
    "    elif 15001 < val < 20000:\n",
    "        Premium_labels.append('D')   \n",
    "    elif 20001 < val < 25000:\n",
    "        Premium_labels.append('E') \n",
    "    elif 25001 < val < 30000:\n",
    "        Premium_labels.append('F') \n",
    "    elif 30001 < val < 35000:\n",
    "        Premium_labels.append('G') \n",
    "    elif 35001 < val < 40000:\n",
    "        Premium_labels.append('H') \n",
    "    elif 40001 < val < 45000:\n",
    "        Premium_labels.append('I')\n",
    "    elif 45001 < val < 50000:\n",
    "        Premium_labels.append('J') \n",
    "    elif 50001 < val < 55000:\n",
    "        Premium_labels.append('K')\n",
    "    elif 55001 < val < 60000:\n",
    "        Premium_labels.append('L') \n",
    "    elif 60001 < val < 65000:\n",
    "        Premium_labels.append('M')\n",
    "    elif 65001 < val < 70000:\n",
    "        Premium_labels.append('N') \n",
    "    elif 70001 < val < 75000:\n",
    "        Premium_labels.append('O')\n",
    "    else:\n",
    "        Premium_labels.append('P')\n",
    "    \n",
    "data_ins['Premium_labels'] = Premium_labels\n",
    "\n"
   ]
  },
  {
   "cell_type": "code",
   "execution_count": 66,
   "metadata": {},
   "outputs": [
    {
     "data": {
      "text/plain": [
       "<matplotlib.axes._subplots.AxesSubplot at 0x1a46ac98b38>"
      ]
     },
     "execution_count": 66,
     "metadata": {},
     "output_type": "execute_result"
    },
    {
     "data": {
      "image/png": "[encoded data removed]",
      "text/plain": [
       "<Figure size 432x288 with 1 Axes>"
      ]
     },
     "metadata": {
      "needs_background": "light"
     },
     "output_type": "display_data"
    }
   ],
   "source": [
    "sns.countplot(data = data_ins, x = 'Premium_labels', hue = 'Health_Indicator')"
   ]
  },
  {
   "cell_type": "code",
   "execution_count": 67,
   "metadata": {},
   "outputs": [
    {
     "data": {
      "text/plain": [
       "<matplotlib.axes._subplots.AxesSubplot at 0x1a46ae282e8>"
      ]
     },
     "execution_count": 67,
     "metadata": {},
     "output_type": "execute_result"
    },
    {
     "data": {
      "image/png": "[encoded data removed]",
      "text/plain": [
       "<Figure size 432x288 with 1 Axes>"
      ]
     },
     "metadata": {
      "needs_background": "light"
     },
     "output_type": "display_data"
    }
   ],
   "source": [
    "sns.countplot(data = data_ins, x = 'Premium_labels', hue = 'Accomodation_Type')"
   ]
  },
  {
   "cell_type": "code",
   "execution_count": 68,
   "metadata": {},
   "outputs": [
    {
     "data": {
      "text/plain": [
       "<matplotlib.axes._subplots.AxesSubplot at 0x1a46f5f65f8>"
      ]
     },
     "execution_count": 68,
     "metadata": {},
     "output_type": "execute_result"
    },
    {
     "data": {
      "image/png": "[encoded data removed]",
      "text/plain": [
       "<Figure size 432x288 with 1 Axes>"
      ]
     },
     "metadata": {
      "needs_background": "light"
     },
     "output_type": "display_data"
    }
   ],
   "source": [
    "sns.countplot(data = data_ins, x = 'Premium_labels', hue = 'Region_Labels')"
   ]
  },
  {
   "cell_type": "code",
   "execution_count": 72,
   "metadata": {},
   "outputs": [
    {
     "data": {
      "text/plain": [
       "<matplotlib.axes._subplots.AxesSubplot at 0x1a470f566d8>"
      ]
     },
     "execution_count": 72,
     "metadata": {},
     "output_type": "execute_result"
    },
    {
     "data": {
      "image/png": "[encoded data removed]",
      "text/plain": [
       "<Figure size 432x288 with 1 Axes>"
      ]
     },
     "metadata": {
      "needs_background": "light"
     },
     "output_type": "display_data"
    }
   ],
   "source": [
    "sns.countplot(data = data_ins, x = 'Premium_labels', hue = 'Married')"
   ]
  },
  {
   "cell_type": "code",
   "execution_count": 73,
   "metadata": {},
   "outputs": [
    {
     "data": {
      "text/plain": [
       "<matplotlib.axes._subplots.AxesSubplot at 0x1a47102ce10>"
      ]
     },
     "execution_count": 73,
     "metadata": {},
     "output_type": "execute_result"
    },
    {
     "data": {
      "image/png": "[encoded data removed]",
      "text/plain": [
       "<Figure size 432x288 with 1 Axes>"
      ]
     },
     "metadata": {
      "needs_background": "light"
     },
     "output_type": "display_data"
    }
   ],
   "source": [
    "sns.countplot(data = data_ins, x = 'Premium_labels', hue = 'Holding_Policy_Duration')"
   ]
  },
  {
   "cell_type": "code",
   "execution_count": 74,
   "metadata": {},
   "outputs": [
    {
     "data": {
      "text/plain": [
       "<matplotlib.axes._subplots.AxesSubplot at 0x1a47135e6d8>"
      ]
     },
     "execution_count": 74,
     "metadata": {},
     "output_type": "execute_result"
    },
    {
     "data": {
      "image/png": "[encoded data removed]",
      "text/plain": [
       "<Figure size 432x288 with 1 Axes>"
      ]
     },
     "metadata": {
      "needs_background": "light"
     },
     "output_type": "display_data"
    }
   ],
   "source": [
    "sns.countplot(data = data_ins, x = 'Premium_labels', hue = 'Age_Category')"
   ]
  },
  {
   "cell_type": "code",
   "execution_count": null,
   "metadata": {},
   "outputs": [],
   "source": []
  }
 ],
 "metadata": {
  "kernelspec": {
   "display_name": "Python 3",
   "language": "python",
   "name": "python3"
  },
  "language_info": {
   "codemirror_mode": {
    "name": "ipython",
    "version": 3
   },
   "file_extension": ".py",
   "mimetype": "text/x-python",
   "name": "python",
   "nbconvert_exporter": "python",
   "pygments_lexer": "ipython3",
   "version": "3.6.10"
  }
 },
 "nbformat": 4,
 "nbformat_minor": 4
}
